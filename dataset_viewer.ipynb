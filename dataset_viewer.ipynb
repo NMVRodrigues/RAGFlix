{
 "cells": [
  {
   "cell_type": "code",
   "execution_count": null,
   "id": "fb74e1a5",
   "metadata": {},
   "outputs": [],
   "source": [
    "import pandas as pd\n",
    "import os\n",
    "from transformers import AutoTokenizer\n",
    "from tqdm import tqdm"
   ]
  },
  {
   "cell_type": "code",
   "execution_count": null,
   "id": "41a49bff",
   "metadata": {},
   "outputs": [],
   "source": [
    "df = pd.read_csv(os.path.join('movie_data', 'movies_2020-01-01_2025-01-01.csv'))"
   ]
  },
  {
   "cell_type": "code",
   "execution_count": null,
   "id": "acf058d2",
   "metadata": {},
   "outputs": [],
   "source": [
    "display(df.head(100))"
   ]
  },
  {
   "cell_type": "code",
   "execution_count": null,
   "id": "a1382feb",
   "metadata": {},
   "outputs": [],
   "source": [
    "df['overview'].to_list()[85:90]"
   ]
  },
  {
   "cell_type": "markdown",
   "id": "33742ab1",
   "metadata": {},
   "source": [
    "### Check token length to ensure it does not exceed the limit of the embedding model"
   ]
  },
  {
   "cell_type": "code",
   "execution_count": null,
   "id": "11d52e43",
   "metadata": {},
   "outputs": [],
   "source": [
    "def count_tokens_transformers(text, model_name=\"BAAI/bge-large-en-v1.5\"):\n",
    "    tokenizer = AutoTokenizer.from_pretrained(model_name)\n",
    "    tokens = tokenizer.encode(text, add_special_tokens=True)\n",
    "    return len(tokens)\n",
    "\n",
    "\n",
    "for index, row in tqdm(df.iterrows(), total=df.shape[0], desc=\"Checking token limits\"):\n",
    "    content = f\"Title: {row['title']}\\n  Overview: {row['overview']}\"\n",
    "    token_count = count_tokens_transformers(content)\n",
    "    if token_count > 512:  # Assuming 512 is the limit for the embedding model\n",
    "        print(f\"Movie {row['title']}, Row {index} exceeds token limit: {token_count} tokens\")\n",
    "    else:\n",
    "        pass"
   ]
  },
  {
   "cell_type": "markdown",
   "id": "ca940699",
   "metadata": {},
   "source": []
  }
 ],
 "metadata": {
  "kernelspec": {
   "display_name": "ragflix",
   "language": "python",
   "name": "python3"
  },
  "language_info": {
   "codemirror_mode": {
    "name": "ipython",
    "version": 3
   },
   "file_extension": ".py",
   "mimetype": "text/x-python",
   "name": "python",
   "nbconvert_exporter": "python",
   "pygments_lexer": "ipython3",
   "version": "3.11.13"
  }
 },
 "nbformat": 4,
 "nbformat_minor": 5
}
